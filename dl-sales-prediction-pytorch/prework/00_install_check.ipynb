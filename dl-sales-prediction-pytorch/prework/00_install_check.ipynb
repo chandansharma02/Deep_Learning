{
 "cells": [
  {
   "cell_type": "markdown",
   "metadata": {},
   "source": [
    "# 00 Installation Check\n",
    "Verify Python & PyTorch are installed correctly."
   ]
  },
  {
   "cell_type": "code",
   "metadata": {},
   "execution_count": null,
   "outputs": [],
   "source": [
    "import sys, torch\n",
    "print('Python', sys.version)\n",
    "print('PyTorch', torch.__version__)\n",
    "print('CUDA available:', torch.cuda.is_available())"
   ]
  }
 ],
 "metadata": {
  "kernelspec": {
   "display_name": "Python 3",
   "language": "python",
   "name": "python3"
  },
  "language_info": {
   "name": "python",
   "version": "3.10"
  }
 },
 "nbformat": 4,
 "nbformat_minor": 5
}
