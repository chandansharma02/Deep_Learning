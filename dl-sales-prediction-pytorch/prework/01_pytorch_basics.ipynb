{
 "cells": [
  {
   "cell_type": "markdown",
   "metadata": {},
   "source": ["# 01 PyTorch Basics\n","Simple linear regression with autograd."]
  },
  {
   "cell_type": "code",
   "metadata": {},
   "execution_count": null,
   "outputs": [],
   "source": [
    "import torch\n",
    "torch.manual_seed(0)\n",
    "x = torch.linspace(-1,1,100).unsqueeze(1)\n",
    "y = 3*x + 2 + 0.1*torch.randn_like(x)\n",
    "model = torch.nn.Linear(1,1)\n",
    "opt = torch.optim.SGD(model.parameters(), lr=0.1)\n",
    "loss_fn = torch.nn.MSELoss()\n",
    "for epoch in range(200):\n",
    "    opt.zero_grad()\n",
    "    pred = model(x)\n",
    "    loss = loss_fn(pred,y)\n",
    "    loss.backward()\n",
    "    opt.step()\n",
    "print('w,b:', model.weight.item(), model.bias.item())\n",
    "print('final loss', loss.item())"
   ]
  }
 ],
 "metadata": {
  "kernelspec": {"display_name": "Python 3", "language": "python", "name": "python3"},
  "language_info": {"name": "python", "version": "3.10"}
 },
 "nbformat": 4,
 "nbformat_minor": 5
}
