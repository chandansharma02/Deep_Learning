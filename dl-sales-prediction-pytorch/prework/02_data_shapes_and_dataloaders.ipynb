{
 "cells": [
  {"cell_type": "markdown", "metadata": {}, "source": ["# 02 Data Shapes & DataLoaders\n","Load synthetic HCP data and inspect batch shapes."]},
  {"cell_type": "code", "metadata": {}, "execution_count": null, "outputs": [], "source": [
   "import pandas as pd\n",
   "from utils.dataset import get_dataloaders\n",
   "train_loader, valid_loader, test_loader, stats = get_dataloaders('data')\n",
   "x_num, x_cat, x_seq, y = next(iter(train_loader))\n",
   "print('numeric', x_num.shape)\n",
   "print('categorical', x_cat.shape)\n",
   "print('sequence', x_seq.shape)\n",
   "print('target', y.shape)"
  ]},
  {"cell_type": "code", "metadata": {}, "execution_count": null, "outputs": [], "source": [
   "from sklearn.linear_model import LinearRegression\n",
   "import numpy as np\n",
   "import pandas as pd\n",
   "df = pd.read_csv('data/train.csv')\n",
   "X = df.drop(columns=['future_4w_sales']).values\n",
   "y = df['future_4w_sales'].values\n",
   "lr = LinearRegression().fit(X, y)\n",
   "print('baseline R2', lr.score(X, y))"
  ]}
 ],
 "metadata": {"kernelspec": {"display_name": "Python 3", "language": "python", "name": "python3"}, "language_info": {"name": "python", "version": "3.10"}},
 "nbformat": 4,
 "nbformat_minor": 5
}
